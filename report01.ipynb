{
 "cells": [
  {
   "cell_type": "code",
   "execution_count": 1,
   "id": "9c410d3a",
   "metadata": {},
   "outputs": [],
   "source": [
    "import numpy as np\n",
    "\n",
    "START = np.array([[3,1,2],[0,6,5],[7,4,8]])\n",
    "GOAL = np.array([[0,1,2],[3,4,5],[6,7,8]])"
   ]
  },
  {
   "cell_type": "code",
   "execution_count": 2,
   "id": "2ced5d54",
   "metadata": {},
   "outputs": [],
   "source": [
    "# calculation for heuristics\n",
    "# using Manhattan distance\n",
    "def cal_h(tiles):\n",
    "    sum=0\n",
    "    for i in range(3):\n",
    "        for j in range(3):\n",
    "            search=tiles[i][j]\n",
    "            if(search==0):\n",
    "                continue\n",
    "            count=0\n",
    "            if(search!=GOAL[i][j]):\n",
    "                true_index=np.where(search==GOAL)\n",
    "                count+=abs(true_index[0]-i)+abs(true_index[1]-j)\n",
    "            sum+=count\n",
    "    return sum"
   ]
  },
  {
   "cell_type": "code",
   "execution_count": 3,
   "id": "7591bcb1",
   "metadata": {},
   "outputs": [
    {
     "name": "stdout",
     "output_type": "stream",
     "text": [
      "[5]\n"
     ]
    }
   ],
   "source": [
    "print(cal_h(START))"
   ]
  },
  {
   "cell_type": "code",
   "execution_count": null,
   "id": "bc560782",
   "metadata": {},
   "outputs": [],
   "source": []
  }
 ],
 "metadata": {
  "kernelspec": {
   "display_name": "Python 3 (ipykernel)",
   "language": "python",
   "name": "python3"
  },
  "language_info": {
   "codemirror_mode": {
    "name": "ipython",
    "version": 3
   },
   "file_extension": ".py",
   "mimetype": "text/x-python",
   "name": "python",
   "nbconvert_exporter": "python",
   "pygments_lexer": "ipython3",
   "version": "3.9.12"
  }
 },
 "nbformat": 4,
 "nbformat_minor": 5
}
