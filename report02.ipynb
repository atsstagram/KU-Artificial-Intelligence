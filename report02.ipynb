{
 "cells": [
  {
   "cell_type": "code",
   "execution_count": 1,
   "id": "bd9f1836",
   "metadata": {},
   "outputs": [],
   "source": [
    "import numpy as np"
   ]
  },
  {
   "cell_type": "code",
   "execution_count": 113,
   "id": "db76f6db",
   "metadata": {},
   "outputs": [],
   "source": [
    "def cal_Bellman(R,V_n, V_s, V_e, V_w):\n",
    "    \n",
    "    #direction=np.array([0,1,2,3]) #north, south, east, west\n",
    "    new_V=np.array([0,1,2,3])\n",
    "    #new_V[a]=0.7*V[a]+0.1*V[a]\n",
    "    \n",
    "    for i in range(4):\n",
    "        if i==0: #north\n",
    "            new_V[0]=0.7*(R+V_n)+0.1*(R+V_s)+0.1*(R+V_e)+0.1*(R+V_w)\n",
    "        elif i==1: #south\n",
    "            new_V[1]=0.7*(R+V_s)+0.1*(R+V_n)+0.1*(R+V_e)+0.1*(R+V_w)\n",
    "        elif i==2: #east\n",
    "            new_V[2]=0.7*(R+V_e)+0.1*(R+V_n)+0.1*(R+V_s)+0.1*(R+V_w)\n",
    "        elif i==3: #west\n",
    "            new_V[3]=0.7*(R+V_w)+0.1*(R+V_n)+0.1*(R+V_s)+0.1*(R+V_e)\n",
    "        else:\n",
    "            return 99999 # error\n",
    "    \n",
    "    max_V=np.max(new_V)\n",
    "    direction=np.where(max_V==new_V)\n",
    "    \n",
    "    return print(\"a=\", direction, \"V=\", max_V)"
   ]
  },
  {
   "cell_type": "code",
   "execution_count": 114,
   "id": "7f6b9684",
   "metadata": {},
   "outputs": [],
   "source": [
    "# k=2のとき"
   ]
  },
  {
   "cell_type": "code",
   "execution_count": 115,
   "id": "6b21e179",
   "metadata": {},
   "outputs": [
    {
     "name": "stdout",
     "output_type": "stream",
     "text": [
      "a= (array([2]),) V= 70\n"
     ]
    }
   ],
   "source": [
    "cal_Bellman(0,0,0,100,0) #東に100、k=2のs_33"
   ]
  },
  {
   "cell_type": "code",
   "execution_count": 29,
   "id": "db9ee873",
   "metadata": {},
   "outputs": [
    {
     "name": "stdout",
     "output_type": "stream",
     "text": [
      "a= (array([0]),) V= 60\n"
     ]
    }
   ],
   "source": [
    "cal_Bellman(0,100,-100,0,0) #北に100南に-100、k=2のs_24"
   ]
  },
  {
   "cell_type": "code",
   "execution_count": 30,
   "id": "6a5ed124",
   "metadata": {},
   "outputs": [
    {
     "name": "stdout",
     "output_type": "stream",
     "text": [
      "a= (array([0, 1, 3]),) V= -10\n"
     ]
    }
   ],
   "source": [
    "cal_Bellman(0,0,0,-100,0) #東に-100、k=2のs_13"
   ]
  },
  {
   "cell_type": "code",
   "execution_count": null,
   "id": "7d0eb914",
   "metadata": {},
   "outputs": [],
   "source": [
    "#k=3のとき"
   ]
  },
  {
   "cell_type": "code",
   "execution_count": 38,
   "id": "50cd5575",
   "metadata": {},
   "outputs": [
    {
     "name": "stdout",
     "output_type": "stream",
     "text": [
      "a= (array([2]),) V= 77\n"
     ]
    }
   ],
   "source": [
    "cal_Bellman(0,70,0,100,0)"
   ]
  },
  {
   "cell_type": "code",
   "execution_count": 39,
   "id": "5e7751c5",
   "metadata": {},
   "outputs": [
    {
     "name": "stdout",
     "output_type": "stream",
     "text": [
      "a= (array([0]),) V= 54\n"
     ]
    }
   ],
   "source": [
    "cal_Bellman(0,70,-10,60,0)"
   ]
  },
  {
   "cell_type": "code",
   "execution_count": 40,
   "id": "33e852d3",
   "metadata": {},
   "outputs": [
    {
     "name": "stdout",
     "output_type": "stream",
     "text": [
      "a= (array([0]),) V= 66\n"
     ]
    }
   ],
   "source": [
    "cal_Bellman(0,100,-100,60,0)"
   ]
  },
  {
   "cell_type": "code",
   "execution_count": 42,
   "id": "c768eaa7",
   "metadata": {},
   "outputs": [
    {
     "name": "stdout",
     "output_type": "stream",
     "text": [
      "a= (array([0, 3]),) V= -11\n"
     ]
    }
   ],
   "source": [
    "cal_Bellman(0,0,-10,-100,0)"
   ]
  },
  {
   "cell_type": "code",
   "execution_count": 43,
   "id": "e808ef30",
   "metadata": {},
   "outputs": [
    {
     "name": "stdout",
     "output_type": "stream",
     "text": [
      "a= (array([2]),) V= 49\n"
     ]
    }
   ],
   "source": [
    "cal_Bellman(0,0,0,70,0)"
   ]
  },
  {
   "cell_type": "code",
   "execution_count": 44,
   "id": "4af12d6b",
   "metadata": {},
   "outputs": [
    {
     "name": "stdout",
     "output_type": "stream",
     "text": [
      "a= (array([0, 1, 2, 3]),) V= 0\n"
     ]
    }
   ],
   "source": [
    "cal_Bellman(0,0,0,0,0)"
   ]
  },
  {
   "cell_type": "code",
   "execution_count": 45,
   "id": "abaa55ca",
   "metadata": {},
   "outputs": [],
   "source": [
    "#k=4のとき"
   ]
  },
  {
   "cell_type": "code",
   "execution_count": 46,
   "id": "61229b41",
   "metadata": {},
   "outputs": [
    {
     "name": "stdout",
     "output_type": "stream",
     "text": [
      "a= (array([2]),) V= 88\n"
     ]
    }
   ],
   "source": [
    "cal_Bellman(0,77,54,100,49)"
   ]
  },
  {
   "cell_type": "code",
   "execution_count": 49,
   "id": "41aca3fd",
   "metadata": {},
   "outputs": [
    {
     "name": "stdout",
     "output_type": "stream",
     "text": [
      "a= (array([2]),) V= 63\n"
     ]
    }
   ],
   "source": [
    "cal_Bellman(0,49,49,77,0)"
   ]
  },
  {
   "cell_type": "code",
   "execution_count": 51,
   "id": "ee138df0",
   "metadata": {},
   "outputs": [
    {
     "name": "stdout",
     "output_type": "stream",
     "text": [
      "a= (array([2]),) V= 34\n"
     ]
    }
   ],
   "source": [
    "cal_Bellman(0,0,0,49,0)"
   ]
  },
  {
   "cell_type": "code",
   "execution_count": 48,
   "id": "179bb5c5",
   "metadata": {},
   "outputs": [
    {
     "name": "stdout",
     "output_type": "stream",
     "text": [
      "a= (array([0]),) V= 72\n"
     ]
    }
   ],
   "source": [
    "cal_Bellman(0,100,-100,66,54)"
   ]
  },
  {
   "cell_type": "code",
   "execution_count": 47,
   "id": "fae166c6",
   "metadata": {},
   "outputs": [
    {
     "name": "stdout",
     "output_type": "stream",
     "text": [
      "a= (array([0]),) V= 64\n"
     ]
    }
   ],
   "source": [
    "cal_Bellman(0,77,-11,66,54)"
   ]
  },
  {
   "cell_type": "code",
   "execution_count": 52,
   "id": "d0b6e0d7",
   "metadata": {},
   "outputs": [
    {
     "name": "stdout",
     "output_type": "stream",
     "text": [
      "a= (array([0]),) V= 26\n"
     ]
    }
   ],
   "source": [
    "cal_Bellman(0,54,-11,-100,0)"
   ]
  },
  {
   "cell_type": "code",
   "execution_count": 53,
   "id": "7cfe7bb0",
   "metadata": {},
   "outputs": [
    {
     "name": "stdout",
     "output_type": "stream",
     "text": [
      "a= (array([0, 1, 3]),) V= -1\n"
     ]
    }
   ],
   "source": [
    "cal_Bellman(0,0,0,-11,0)"
   ]
  },
  {
   "cell_type": "code",
   "execution_count": 54,
   "id": "e118618d",
   "metadata": {},
   "outputs": [],
   "source": [
    "# k=5のとき"
   ]
  },
  {
   "cell_type": "code",
   "execution_count": 61,
   "id": "f6062c23",
   "metadata": {},
   "outputs": [
    {
     "name": "stdout",
     "output_type": "stream",
     "text": [
      "a= (array([2]),) V= 91\n",
      "a= (array([2]),) V= 77\n",
      "a= (array([2]),) V= 50\n"
     ]
    }
   ],
   "source": [
    "0\n",
    "cal_Bellman(0,88,64,100,63)\n",
    "cal_Bellman(0,63,63,88,34)\n",
    "cal_Bellman(0,34,0,63,34)"
   ]
  },
  {
   "cell_type": "code",
   "execution_count": 59,
   "id": "b93d8639",
   "metadata": {},
   "outputs": [
    {
     "name": "stdout",
     "output_type": "stream",
     "text": [
      "a= (array([0]),) V= 73\n",
      "a= (array([0]),) V= 77\n",
      "a= (array([0]),) V= 23\n"
     ]
    }
   ],
   "source": [
    "cal_Bellman(0,100,-100,72,64)\n",
    "cal_Bellman(0,88,26,72,64)\n",
    "0\n",
    "cal_Bellman(0,34,0,0,0)"
   ]
  },
  {
   "cell_type": "code",
   "execution_count": 62,
   "id": "e6301142",
   "metadata": {},
   "outputs": [
    {
     "name": "stdout",
     "output_type": "stream",
     "text": [
      "a= (array([0]),) V= 37\n",
      "a= (array([2]),) V= 17\n",
      "a= (array([0, 1, 2, 3]),) V= 0\n"
     ]
    }
   ],
   "source": [
    "0\n",
    "cal_Bellman(0,64,26,-100,-1)\n",
    "cal_Bellman(0,-1,-1,26,0)\n",
    "cal_Bellman(0,0,0,-1,0)"
   ]
  },
  {
   "cell_type": "code",
   "execution_count": 63,
   "id": "118171cc",
   "metadata": {},
   "outputs": [],
   "source": [
    "# k=6のとき"
   ]
  },
  {
   "cell_type": "code",
   "execution_count": 72,
   "id": "865c5aa4",
   "metadata": {},
   "outputs": [
    {
     "name": "stdout",
     "output_type": "stream",
     "text": [
      "a= (array([2]),) V= 94\n",
      "a= (array([2]),) V= 84\n",
      "a= (array([2]),) V= 66\n"
     ]
    }
   ],
   "source": [
    "0\n",
    "cal_Bellman(0,91,77,100,77)\n",
    "cal_Bellman(0,77,77,91,50)\n",
    "cal_Bellman(0,50,23,77,50)"
   ]
  },
  {
   "cell_type": "code",
   "execution_count": 73,
   "id": "93a23a52",
   "metadata": {},
   "outputs": [
    {
     "name": "stdout",
     "output_type": "stream",
     "text": [
      "a= (array([0]),) V= 75\n",
      "a= (array([0]),) V= 82\n",
      "a= (array([0]),) V= 39\n"
     ]
    }
   ],
   "source": [
    "cal_Bellman(0,100,-100,73,77)\n",
    "cal_Bellman(0,91,37,73,77)\n",
    "0\n",
    "cal_Bellman(0,50,0,23,23)"
   ]
  },
  {
   "cell_type": "code",
   "execution_count": 74,
   "id": "e26394f5",
   "metadata": {},
   "outputs": [
    {
     "name": "stdout",
     "output_type": "stream",
     "text": [
      "a= (array([0]),) V= 49\n",
      "a= (array([2]),) V= 29\n",
      "a= (array([0]),) V= 17\n"
     ]
    }
   ],
   "source": [
    "0\n",
    "cal_Bellman(0,77,37,-100,17)\n",
    "cal_Bellman(0,17,17,37,0)\n",
    "cal_Bellman(0,23,0,17,0)"
   ]
  },
  {
   "cell_type": "code",
   "execution_count": 75,
   "id": "6fff8a65",
   "metadata": {},
   "outputs": [],
   "source": [
    "# k=7のとき"
   ]
  },
  {
   "cell_type": "code",
   "execution_count": 76,
   "id": "906da4e2",
   "metadata": {},
   "outputs": [
    {
     "name": "stdout",
     "output_type": "stream",
     "text": [
      "a= (array([2]),) V= 96\n",
      "a= (array([2]),) V= 89\n",
      "a= (array([2]),) V= 75\n"
     ]
    }
   ],
   "source": [
    "0\n",
    "cal_Bellman(0,94,82,100,84)\n",
    "cal_Bellman(0,84,84,94,66)\n",
    "cal_Bellman(0,66,39,84,66)"
   ]
  },
  {
   "cell_type": "code",
   "execution_count": 77,
   "id": "2facabdd",
   "metadata": {},
   "outputs": [
    {
     "name": "stdout",
     "output_type": "stream",
     "text": [
      "a= (array([0]),) V= 75\n",
      "a= (array([0]),) V= 86\n",
      "a= (array([0]),) V= 55\n"
     ]
    }
   ],
   "source": [
    "cal_Bellman(0,100,-100,75,82)\n",
    "cal_Bellman(0,94,49,75,82)\n",
    "0\n",
    "cal_Bellman(0,66,17,39,39)"
   ]
  },
  {
   "cell_type": "code",
   "execution_count": 78,
   "id": "2dee2d39",
   "metadata": {},
   "outputs": [
    {
     "name": "stdout",
     "output_type": "stream",
     "text": [
      "a= (array([0]),) V= 55\n",
      "a= (array([2]),) V= 41\n",
      "a= (array([0]),) V= 33\n"
     ]
    }
   ],
   "source": [
    "0\n",
    "cal_Bellman(0,82,49,-100,29)\n",
    "cal_Bellman(0,29,29,49,17)\n",
    "cal_Bellman(0,39,17,29,17)"
   ]
  },
  {
   "cell_type": "code",
   "execution_count": 79,
   "id": "4b08df01",
   "metadata": {},
   "outputs": [],
   "source": [
    "# k=8のとき"
   ]
  },
  {
   "cell_type": "code",
   "execution_count": 80,
   "id": "89ae3307",
   "metadata": {},
   "outputs": [
    {
     "name": "stdout",
     "output_type": "stream",
     "text": [
      "a= (array([2]),) V= 97\n",
      "a= (array([2]),) V= 92\n",
      "a= (array([2]),) V= 82\n"
     ]
    }
   ],
   "source": [
    "0\n",
    "cal_Bellman(0,96,86,100,89)\n",
    "cal_Bellman(0,89,89,96,75)\n",
    "cal_Bellman(0,75,55,89,75)"
   ]
  },
  {
   "cell_type": "code",
   "execution_count": 81,
   "id": "0860819f",
   "metadata": {},
   "outputs": [
    {
     "name": "stdout",
     "output_type": "stream",
     "text": [
      "a= (array([0]),) V= 76\n",
      "a= (array([0]),) V= 88\n",
      "a= (array([0]),) V= 66\n"
     ]
    }
   ],
   "source": [
    "cal_Bellman(0,100,-100,75,86)\n",
    "cal_Bellman(0,96,55,75,86)\n",
    "0\n",
    "cal_Bellman(0,75,33,55,55)"
   ]
  },
  {
   "cell_type": "code",
   "execution_count": 82,
   "id": "6f804560",
   "metadata": {},
   "outputs": [
    {
     "name": "stdout",
     "output_type": "stream",
     "text": [
      "a= (array([0]),) V= 59\n",
      "a= (array([2]),) V= 50\n",
      "a= (array([0]),) V= 49\n"
     ]
    }
   ],
   "source": [
    "0\n",
    "cal_Bellman(0,86,55,-100,41)\n",
    "cal_Bellman(0,41,41,55,33)\n",
    "cal_Bellman(0,55,33,41,33)"
   ]
  },
  {
   "cell_type": "code",
   "execution_count": 83,
   "id": "092b9b59",
   "metadata": {},
   "outputs": [],
   "source": [
    "# k=9のとき"
   ]
  },
  {
   "cell_type": "code",
   "execution_count": 84,
   "id": "1ca40492",
   "metadata": {},
   "outputs": [
    {
     "name": "stdout",
     "output_type": "stream",
     "text": [
      "a= (array([2]),) V= 97\n",
      "a= (array([2]),) V= 94\n",
      "a= (array([2]),) V= 87\n"
     ]
    }
   ],
   "source": [
    "0\n",
    "cal_Bellman(0,97,88,100,92)\n",
    "cal_Bellman(0,92,92,97,82)\n",
    "cal_Bellman(0,82,66,92,82)"
   ]
  },
  {
   "cell_type": "code",
   "execution_count": 85,
   "id": "f1339468",
   "metadata": {},
   "outputs": [
    {
     "name": "stdout",
     "output_type": "stream",
     "text": [
      "a= (array([0]),) V= 76\n",
      "a= (array([0]),) V= 90\n",
      "a= (array([0]),) V= 75\n"
     ]
    }
   ],
   "source": [
    "cal_Bellman(0,100,-100,76,88)\n",
    "cal_Bellman(0,97,59,76,88)\n",
    "0\n",
    "cal_Bellman(0,82,49,66,66)"
   ]
  },
  {
   "cell_type": "code",
   "execution_count": 86,
   "id": "608120bf",
   "metadata": {},
   "outputs": [
    {
     "name": "stdout",
     "output_type": "stream",
     "text": [
      "a= (array([0]),) V= 62\n",
      "a= (array([2]),) V= 56\n",
      "a= (array([0]),) V= 60\n"
     ]
    }
   ],
   "source": [
    "0\n",
    "cal_Bellman(0,88,59,-100,50)\n",
    "cal_Bellman(0,50,50,59,49)\n",
    "cal_Bellman(0,66,49,50,49)"
   ]
  },
  {
   "cell_type": "code",
   "execution_count": 87,
   "id": "62832b28",
   "metadata": {},
   "outputs": [],
   "source": [
    "# k=10のとき"
   ]
  },
  {
   "cell_type": "code",
   "execution_count": 88,
   "id": "2aa2c567",
   "metadata": {},
   "outputs": [
    {
     "name": "stdout",
     "output_type": "stream",
     "text": [
      "a= (array([2]),) V= 98\n",
      "a= (array([2]),) V= 95\n",
      "a= (array([2]),) V= 90\n"
     ]
    }
   ],
   "source": [
    "0\n",
    "cal_Bellman(0,97,90,100,94)\n",
    "cal_Bellman(0,94,94,97,87)\n",
    "cal_Bellman(0,87,75,94,87)"
   ]
  },
  {
   "cell_type": "code",
   "execution_count": 89,
   "id": "1d027d84",
   "metadata": {},
   "outputs": [
    {
     "name": "stdout",
     "output_type": "stream",
     "text": [
      "a= (array([0]),) V= 76\n",
      "a= (array([0]),) V= 90\n",
      "a= (array([0]),) V= 81\n"
     ]
    }
   ],
   "source": [
    "cal_Bellman(0,100,-100,76,90)\n",
    "cal_Bellman(0,97,62,76,90)\n",
    "0\n",
    "cal_Bellman(0,87,60,75,75)"
   ]
  },
  {
   "cell_type": "code",
   "execution_count": 90,
   "id": "3f8074d2",
   "metadata": {},
   "outputs": [
    {
     "name": "stdout",
     "output_type": "stream",
     "text": [
      "a= (array([0]),) V= 64\n",
      "a= (array([2]),) V= 60\n",
      "a= (array([0]),) V= 70\n"
     ]
    }
   ],
   "source": [
    "0\n",
    "cal_Bellman(0,90,62,-100,56)\n",
    "cal_Bellman(0,56,56,62,60)\n",
    "cal_Bellman(0,75,60,56,60)"
   ]
  },
  {
   "cell_type": "code",
   "execution_count": 91,
   "id": "28af31b2",
   "metadata": {},
   "outputs": [],
   "source": [
    "# k=11のとき"
   ]
  },
  {
   "cell_type": "code",
   "execution_count": 92,
   "id": "33b10808",
   "metadata": {},
   "outputs": [
    {
     "name": "stdout",
     "output_type": "stream",
     "text": [
      "a= (array([2]),) V= 98\n",
      "a= (array([2]),) V= 96\n",
      "a= (array([2]),) V= 92\n"
     ]
    }
   ],
   "source": [
    "0\n",
    "cal_Bellman(0,98,90,100,95)\n",
    "cal_Bellman(0,95,95,98,90)\n",
    "cal_Bellman(0,90,81,95,90)"
   ]
  },
  {
   "cell_type": "code",
   "execution_count": 93,
   "id": "68f1996c",
   "metadata": {},
   "outputs": [
    {
     "name": "stdout",
     "output_type": "stream",
     "text": [
      "a= (array([0]),) V= 76\n",
      "a= (array([0]),) V= 91\n",
      "a= (array([0]),) V= 86\n"
     ]
    }
   ],
   "source": [
    "cal_Bellman(0,100,-100,76,90)\n",
    "cal_Bellman(0,98,64,76,90)\n",
    "0\n",
    "cal_Bellman(0,90,70,81,81)"
   ]
  },
  {
   "cell_type": "code",
   "execution_count": 94,
   "id": "5647014b",
   "metadata": {},
   "outputs": [
    {
     "name": "stdout",
     "output_type": "stream",
     "text": [
      "a= (array([0]),) V= 65\n",
      "a= (array([3]),) V= 67\n",
      "a= (array([0]),) V= 76\n"
     ]
    }
   ],
   "source": [
    "0\n",
    "cal_Bellman(0,90,64,-100,60)\n",
    "cal_Bellman(0,60,60,64,70)\n",
    "cal_Bellman(0,81,70,60,70)"
   ]
  },
  {
   "cell_type": "code",
   "execution_count": 95,
   "id": "d5d098c5",
   "metadata": {},
   "outputs": [],
   "source": [
    "# k=12のとき"
   ]
  },
  {
   "cell_type": "code",
   "execution_count": 96,
   "id": "a2f4b43d",
   "metadata": {},
   "outputs": [
    {
     "name": "stdout",
     "output_type": "stream",
     "text": [
      "a= (array([2]),) V= 98\n",
      "a= (array([2]),) V= 96\n",
      "a= (array([2]),) V= 94\n"
     ]
    }
   ],
   "source": [
    "0\n",
    "cal_Bellman(0,98,91,100,96)\n",
    "cal_Bellman(0,96,96,98,92)\n",
    "cal_Bellman(0,92,86,96,92)"
   ]
  },
  {
   "cell_type": "code",
   "execution_count": 97,
   "id": "2d5c1bbc",
   "metadata": {},
   "outputs": [
    {
     "name": "stdout",
     "output_type": "stream",
     "text": [
      "a= (array([0]),) V= 76\n",
      "a= (array([0]),) V= 91\n",
      "a= (array([0]),) V= 89\n"
     ]
    }
   ],
   "source": [
    "cal_Bellman(0,100,-100,76,91)\n",
    "cal_Bellman(0,98,65,76,91)\n",
    "0\n",
    "cal_Bellman(0,92,76,86,86)"
   ]
  },
  {
   "cell_type": "code",
   "execution_count": 98,
   "id": "d7ffde1e",
   "metadata": {},
   "outputs": [
    {
     "name": "stdout",
     "output_type": "stream",
     "text": [
      "a= (array([0]),) V= 66\n",
      "a= (array([3]),) V= 73\n",
      "a= (array([0]),) V= 82\n"
     ]
    }
   ],
   "source": [
    "0\n",
    "cal_Bellman(0,91,65,-100,67)\n",
    "cal_Bellman(0,67,67,65,76)\n",
    "cal_Bellman(0,86,76,67,76)"
   ]
  },
  {
   "cell_type": "code",
   "execution_count": 99,
   "id": "b2686fe9",
   "metadata": {},
   "outputs": [],
   "source": [
    "# k=13のとき"
   ]
  },
  {
   "cell_type": "code",
   "execution_count": 100,
   "id": "da1f5cbd",
   "metadata": {},
   "outputs": [
    {
     "name": "stdout",
     "output_type": "stream",
     "text": [
      "a= (array([2]),) V= 98\n",
      "a= (array([2]),) V= 97\n",
      "a= (array([2]),) V= 94\n"
     ]
    }
   ],
   "source": [
    "0\n",
    "cal_Bellman(0,98,91,100,96)\n",
    "cal_Bellman(0,96,96,98,94)\n",
    "cal_Bellman(0,94,89,96,94)"
   ]
  },
  {
   "cell_type": "code",
   "execution_count": 101,
   "id": "694c9689",
   "metadata": {},
   "outputs": [
    {
     "name": "stdout",
     "output_type": "stream",
     "text": [
      "a= (array([0]),) V= 76\n",
      "a= (array([0]),) V= 91\n",
      "a= (array([0]),) V= 91\n"
     ]
    }
   ],
   "source": [
    "cal_Bellman(0,100,-100,76,91)\n",
    "cal_Bellman(0,98,66,76,91)\n",
    "0\n",
    "cal_Bellman(0,94,82,89,89)"
   ]
  },
  {
   "cell_type": "code",
   "execution_count": 102,
   "id": "13e367c8",
   "metadata": {},
   "outputs": [
    {
     "name": "stdout",
     "output_type": "stream",
     "text": [
      "a= (array([0]),) V= 67\n",
      "a= (array([3]),) V= 78\n",
      "a= (array([0]),) V= 86\n"
     ]
    }
   ],
   "source": [
    "0\n",
    "cal_Bellman(0,91,66,-100,73)\n",
    "cal_Bellman(0,73,73,66,82)\n",
    "cal_Bellman(0,89,82,73,82)"
   ]
  },
  {
   "cell_type": "code",
   "execution_count": 103,
   "id": "604671a4",
   "metadata": {},
   "outputs": [],
   "source": [
    "# k=14のとき"
   ]
  },
  {
   "cell_type": "code",
   "execution_count": 104,
   "id": "9acbad6a",
   "metadata": {},
   "outputs": [
    {
     "name": "stdout",
     "output_type": "stream",
     "text": [
      "a= (array([2]),) V= 98\n",
      "a= (array([2]),) V= 97\n",
      "a= (array([2]),) V= 95\n"
     ]
    }
   ],
   "source": [
    "0\n",
    "cal_Bellman(0,98,91,100,97)\n",
    "cal_Bellman(0,97,97,98,94)\n",
    "cal_Bellman(0,94,91,97,94)"
   ]
  },
  {
   "cell_type": "code",
   "execution_count": 105,
   "id": "49a33b8e",
   "metadata": {},
   "outputs": [
    {
     "name": "stdout",
     "output_type": "stream",
     "text": [
      "a= (array([0]),) V= 76\n",
      "a= (array([0]),) V= 91\n",
      "a= (array([0]),) V= 92\n"
     ]
    }
   ],
   "source": [
    "cal_Bellman(0,100,-100,76,91)\n",
    "cal_Bellman(0,98,67,76,91)\n",
    "0\n",
    "cal_Bellman(0,94,86,91,91)"
   ]
  },
  {
   "cell_type": "code",
   "execution_count": 106,
   "id": "b0671460",
   "metadata": {},
   "outputs": [
    {
     "name": "stdout",
     "output_type": "stream",
     "text": [
      "a= (array([0]),) V= 68\n",
      "a= (array([3]),) V= 82\n",
      "a= (array([0]),) V= 88\n"
     ]
    }
   ],
   "source": [
    "0\n",
    "cal_Bellman(0,91,67,-100,78)\n",
    "cal_Bellman(0,78,78,67,86)\n",
    "cal_Bellman(0,91,86,78,86)"
   ]
  },
  {
   "cell_type": "code",
   "execution_count": 107,
   "id": "17654024",
   "metadata": {},
   "outputs": [],
   "source": [
    "# k=15のとき"
   ]
  },
  {
   "cell_type": "code",
   "execution_count": 108,
   "id": "6fada944",
   "metadata": {},
   "outputs": [
    {
     "name": "stdout",
     "output_type": "stream",
     "text": [
      "a= (array([2]),) V= 98\n",
      "a= (array([2]),) V= 97\n",
      "a= (array([2]),) V= 96\n"
     ]
    }
   ],
   "source": [
    "0\n",
    "cal_Bellman(0,98,91,100,97)\n",
    "cal_Bellman(0,97,97,98,95)\n",
    "cal_Bellman(0,95,92,97,95)"
   ]
  },
  {
   "cell_type": "code",
   "execution_count": 109,
   "id": "bc19308b",
   "metadata": {},
   "outputs": [
    {
     "name": "stdout",
     "output_type": "stream",
     "text": [
      "a= (array([0]),) V= 76\n",
      "a= (array([0]),) V= 92\n",
      "a= (array([0]),) V= 93\n"
     ]
    }
   ],
   "source": [
    "cal_Bellman(0,100,-100,76,91)\n",
    "cal_Bellman(0,98,68,76,91)\n",
    "0\n",
    "cal_Bellman(0,95,88,92,92)"
   ]
  },
  {
   "cell_type": "code",
   "execution_count": 110,
   "id": "d5be7e83",
   "metadata": {},
   "outputs": [
    {
     "name": "stdout",
     "output_type": "stream",
     "text": [
      "a= (array([0]),) V= 68\n",
      "a= (array([3]),) V= 84\n",
      "a= (array([0]),) V= 90\n"
     ]
    }
   ],
   "source": [
    "0\n",
    "cal_Bellman(0,91,68,-100,82)\n",
    "cal_Bellman(0,82,82,68,88)\n",
    "cal_Bellman(0,92,88,82,88)"
   ]
  },
  {
   "cell_type": "code",
   "execution_count": 111,
   "id": "14b85699",
   "metadata": {},
   "outputs": [],
   "source": [
    "# k=16のとき"
   ]
  },
  {
   "cell_type": "code",
   "execution_count": 112,
   "id": "5b0b38ee",
   "metadata": {},
   "outputs": [
    {
     "name": "stdout",
     "output_type": "stream",
     "text": [
      "a= (array([2]),) V= 98\n",
      "a= (array([0, 1, 2]),) V= 97\n",
      "a= (array([2]),) V= 96\n"
     ]
    }
   ],
   "source": [
    "0\n",
    "cal_Bellman(0,98,92,100,97)\n",
    "cal_Bellman(0,97,97,98,96)\n",
    "cal_Bellman(0,96,93,97,96)"
   ]
  },
  {
   "cell_type": "code",
   "execution_count": null,
   "id": "749dcbea",
   "metadata": {},
   "outputs": [],
   "source": []
  }
 ],
 "metadata": {
  "kernelspec": {
   "display_name": "Python 3 (ipykernel)",
   "language": "python",
   "name": "python3"
  },
  "language_info": {
   "codemirror_mode": {
    "name": "ipython",
    "version": 3
   },
   "file_extension": ".py",
   "mimetype": "text/x-python",
   "name": "python",
   "nbconvert_exporter": "python",
   "pygments_lexer": "ipython3",
   "version": "3.9.12"
  }
 },
 "nbformat": 4,
 "nbformat_minor": 5
}
